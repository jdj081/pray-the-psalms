{
 "metadata": {
  "name": ""
 },
 "nbformat": 3,
 "nbformat_minor": 0,
 "worksheets": [
  {
   "cells": [
    {
     "cell_type": "code",
     "collapsed": false,
     "input": [
      "import datetime, os, webbrowser\n",
      "import numpy as np\n",
      "day = datetime.date.today().day\n",
      "\n",
      "#print day\n",
      "\n",
      "wb=webbrowser.get()\n",
      "\n",
      "if day == 31:\n",
      "    wb.open('http://ibibles.net/quote.php?niv-psa/119:1-150',new = 1)\n",
      "else:\n",
      "    for ps in xrange(5):\n",
      "        ch = ps*30+day\n",
      "        newtab = np.sign(ps) + 1\n",
      "        wb.open_new_tab('http://ibibles.net/quote.php?niv-psa/%i:1-150'%ch)\n",
      "\n",
      "webbrowser.open('http://ibibles.net/quote.php?niv-prv/%i:1-150'%day,new = 2);"
     ],
     "language": "python",
     "metadata": {},
     "outputs": [
      {
       "output_type": "stream",
       "stream": "stdout",
       "text": [
        "26\n"
       ]
      }
     ],
     "prompt_number": 1
    }
   ],
   "metadata": {}
  }
 ]
}